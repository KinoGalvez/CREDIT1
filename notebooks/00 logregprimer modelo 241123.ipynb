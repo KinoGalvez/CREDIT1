{
 "cells": [
  {
   "cell_type": "code",
   "execution_count": 7,
   "metadata": {},
   "outputs": [],
   "source": [
    "import pandas as pd\n",
    "import numpy as np\n",
    "import matplotlib.pyplot as plt\n",
    "import seaborn as sns\n",
    "from sklearn.pipeline import Pipeline\n",
    "from sklearn.ensemble import RandomForestClassifier, GradientBoostingClassifier\n",
    "from sklearn.linear_model import LogisticRegression\n",
    "from sklearn.neighbors import KNeighborsClassifier\n",
    "from sklearn.svm import SVC\n",
    "from sklearn.preprocessing import StandardScaler\n",
    "from sklearn.feature_selection import SelectKBest\n",
    "from sklearn.model_selection import GridSearchCV, RandomizedSearchCV, cross_val_score\n",
    "from sklearn.metrics import accuracy_score, confusion_matrix, recall_score, precision_score, roc_auc_score, f1_score, roc_curve, precision_recall_curve,auc\n",
    "import warnings\n",
    "warnings.filterwarnings(\"ignore\")\n",
    "import pickle"
   ]
  },
  {
   "cell_type": "code",
   "execution_count": 33,
   "metadata": {},
   "outputs": [],
   "source": [
    "X = pd.read_csv('../data/processed/X_balmix01.csv')\n",
    "y = pd.read_csv('../data/processed/y_balmix01.csv')"
   ]
  },
  {
   "cell_type": "code",
   "execution_count": 35,
   "metadata": {},
   "outputs": [],
   "source": [
    "from sklearn.model_selection import train_test_split\n",
    "\n",
    "X_train, X_test, y_train, y_test = train_test_split(X, y, test_size=0.2, random_state=0)"
   ]
  },
  {
   "cell_type": "code",
   "execution_count": 36,
   "metadata": {},
   "outputs": [
    {
     "name": "stdout",
     "output_type": "stream",
     "text": [
      "(10849, 11)\n",
      "(2713, 11)\n",
      "(10849, 1)\n",
      "(2713, 1)\n"
     ]
    }
   ],
   "source": [
    "print(X_train.shape)\n",
    "print(X_test.shape)\n",
    "print(y_train.shape)\n",
    "print(y_test.shape)"
   ]
  },
  {
   "cell_type": "code",
   "execution_count": 37,
   "metadata": {},
   "outputs": [],
   "source": [
    "train = pd.concat([X_train, pd.DataFrame(y_train, columns=['loan_status'])], axis=1)\n",
    "\n"
   ]
  },
  {
   "cell_type": "code",
   "execution_count": 38,
   "metadata": {},
   "outputs": [
    {
     "data": {
      "text/html": [
       "<div>\n",
       "<style scoped>\n",
       "    .dataframe tbody tr th:only-of-type {\n",
       "        vertical-align: middle;\n",
       "    }\n",
       "\n",
       "    .dataframe tbody tr th {\n",
       "        vertical-align: top;\n",
       "    }\n",
       "\n",
       "    .dataframe thead th {\n",
       "        text-align: right;\n",
       "    }\n",
       "</style>\n",
       "<table border=\"1\" class=\"dataframe\">\n",
       "  <thead>\n",
       "    <tr style=\"text-align: right;\">\n",
       "      <th></th>\n",
       "      <th>term</th>\n",
       "      <th>int_rate</th>\n",
       "      <th>installment</th>\n",
       "      <th>emp_length</th>\n",
       "      <th>annual_inc</th>\n",
       "      <th>dti</th>\n",
       "      <th>pub_rec</th>\n",
       "      <th>revol_bal</th>\n",
       "      <th>revol_util</th>\n",
       "      <th>total_acc</th>\n",
       "      <th>mort_acc</th>\n",
       "      <th>loan_status</th>\n",
       "    </tr>\n",
       "  </thead>\n",
       "  <tbody>\n",
       "    <tr>\n",
       "      <th>11676</th>\n",
       "      <td>36</td>\n",
       "      <td>8.90</td>\n",
       "      <td>139.72</td>\n",
       "      <td>2.0</td>\n",
       "      <td>44000.0</td>\n",
       "      <td>22.94</td>\n",
       "      <td>0.0</td>\n",
       "      <td>4318.0</td>\n",
       "      <td>58.4</td>\n",
       "      <td>20.0</td>\n",
       "      <td>0.0</td>\n",
       "      <td>0</td>\n",
       "    </tr>\n",
       "    <tr>\n",
       "      <th>3747</th>\n",
       "      <td>36</td>\n",
       "      <td>15.31</td>\n",
       "      <td>139.27</td>\n",
       "      <td>4.0</td>\n",
       "      <td>15000.0</td>\n",
       "      <td>31.20</td>\n",
       "      <td>0.0</td>\n",
       "      <td>4328.0</td>\n",
       "      <td>92.1</td>\n",
       "      <td>21.0</td>\n",
       "      <td>0.0</td>\n",
       "      <td>1</td>\n",
       "    </tr>\n",
       "    <tr>\n",
       "      <th>4911</th>\n",
       "      <td>36</td>\n",
       "      <td>6.62</td>\n",
       "      <td>313.18</td>\n",
       "      <td>5.0</td>\n",
       "      <td>111800.0</td>\n",
       "      <td>9.30</td>\n",
       "      <td>0.0</td>\n",
       "      <td>32387.0</td>\n",
       "      <td>40.5</td>\n",
       "      <td>53.0</td>\n",
       "      <td>3.0</td>\n",
       "      <td>0</td>\n",
       "    </tr>\n",
       "    <tr>\n",
       "      <th>6451</th>\n",
       "      <td>36</td>\n",
       "      <td>8.90</td>\n",
       "      <td>698.58</td>\n",
       "      <td>3.0</td>\n",
       "      <td>100000.0</td>\n",
       "      <td>9.42</td>\n",
       "      <td>0.0</td>\n",
       "      <td>12781.0</td>\n",
       "      <td>63.9</td>\n",
       "      <td>15.0</td>\n",
       "      <td>4.0</td>\n",
       "      <td>0</td>\n",
       "    </tr>\n",
       "    <tr>\n",
       "      <th>9548</th>\n",
       "      <td>36</td>\n",
       "      <td>9.76</td>\n",
       "      <td>437.31</td>\n",
       "      <td>2.0</td>\n",
       "      <td>36096.0</td>\n",
       "      <td>27.26</td>\n",
       "      <td>0.0</td>\n",
       "      <td>3174.0</td>\n",
       "      <td>43.5</td>\n",
       "      <td>10.0</td>\n",
       "      <td>0.0</td>\n",
       "      <td>1</td>\n",
       "    </tr>\n",
       "    <tr>\n",
       "      <th>...</th>\n",
       "      <td>...</td>\n",
       "      <td>...</td>\n",
       "      <td>...</td>\n",
       "      <td>...</td>\n",
       "      <td>...</td>\n",
       "      <td>...</td>\n",
       "      <td>...</td>\n",
       "      <td>...</td>\n",
       "      <td>...</td>\n",
       "      <td>...</td>\n",
       "      <td>...</td>\n",
       "      <td>...</td>\n",
       "    </tr>\n",
       "    <tr>\n",
       "      <th>13123</th>\n",
       "      <td>36</td>\n",
       "      <td>17.77</td>\n",
       "      <td>540.56</td>\n",
       "      <td>10.0</td>\n",
       "      <td>120000.0</td>\n",
       "      <td>23.04</td>\n",
       "      <td>0.0</td>\n",
       "      <td>21623.0</td>\n",
       "      <td>62.2</td>\n",
       "      <td>36.0</td>\n",
       "      <td>3.0</td>\n",
       "      <td>0</td>\n",
       "    </tr>\n",
       "    <tr>\n",
       "      <th>3264</th>\n",
       "      <td>60</td>\n",
       "      <td>24.83</td>\n",
       "      <td>468.03</td>\n",
       "      <td>4.0</td>\n",
       "      <td>70000.0</td>\n",
       "      <td>15.72</td>\n",
       "      <td>0.0</td>\n",
       "      <td>11401.0</td>\n",
       "      <td>57.6</td>\n",
       "      <td>57.0</td>\n",
       "      <td>1.0</td>\n",
       "      <td>1</td>\n",
       "    </tr>\n",
       "    <tr>\n",
       "      <th>9845</th>\n",
       "      <td>36</td>\n",
       "      <td>14.09</td>\n",
       "      <td>492.79</td>\n",
       "      <td>5.0</td>\n",
       "      <td>109000.0</td>\n",
       "      <td>31.58</td>\n",
       "      <td>0.0</td>\n",
       "      <td>21930.0</td>\n",
       "      <td>69.2</td>\n",
       "      <td>27.0</td>\n",
       "      <td>4.0</td>\n",
       "      <td>0</td>\n",
       "    </tr>\n",
       "    <tr>\n",
       "      <th>10799</th>\n",
       "      <td>36</td>\n",
       "      <td>16.29</td>\n",
       "      <td>317.71</td>\n",
       "      <td>10.0</td>\n",
       "      <td>43000.0</td>\n",
       "      <td>11.55</td>\n",
       "      <td>0.0</td>\n",
       "      <td>8767.0</td>\n",
       "      <td>63.1</td>\n",
       "      <td>23.0</td>\n",
       "      <td>5.0</td>\n",
       "      <td>0</td>\n",
       "    </tr>\n",
       "    <tr>\n",
       "      <th>2732</th>\n",
       "      <td>36</td>\n",
       "      <td>16.29</td>\n",
       "      <td>353.01</td>\n",
       "      <td>1.0</td>\n",
       "      <td>36000.0</td>\n",
       "      <td>13.47</td>\n",
       "      <td>0.0</td>\n",
       "      <td>8774.0</td>\n",
       "      <td>90.7</td>\n",
       "      <td>23.0</td>\n",
       "      <td>0.0</td>\n",
       "      <td>0</td>\n",
       "    </tr>\n",
       "  </tbody>\n",
       "</table>\n",
       "<p>10849 rows × 12 columns</p>\n",
       "</div>"
      ],
      "text/plain": [
       "       term  int_rate  installment  emp_length  annual_inc    dti  pub_rec  \\\n",
       "11676    36      8.90       139.72         2.0     44000.0  22.94      0.0   \n",
       "3747     36     15.31       139.27         4.0     15000.0  31.20      0.0   \n",
       "4911     36      6.62       313.18         5.0    111800.0   9.30      0.0   \n",
       "6451     36      8.90       698.58         3.0    100000.0   9.42      0.0   \n",
       "9548     36      9.76       437.31         2.0     36096.0  27.26      0.0   \n",
       "...     ...       ...          ...         ...         ...    ...      ...   \n",
       "13123    36     17.77       540.56        10.0    120000.0  23.04      0.0   \n",
       "3264     60     24.83       468.03         4.0     70000.0  15.72      0.0   \n",
       "9845     36     14.09       492.79         5.0    109000.0  31.58      0.0   \n",
       "10799    36     16.29       317.71        10.0     43000.0  11.55      0.0   \n",
       "2732     36     16.29       353.01         1.0     36000.0  13.47      0.0   \n",
       "\n",
       "       revol_bal  revol_util  total_acc  mort_acc  loan_status  \n",
       "11676     4318.0        58.4       20.0       0.0            0  \n",
       "3747      4328.0        92.1       21.0       0.0            1  \n",
       "4911     32387.0        40.5       53.0       3.0            0  \n",
       "6451     12781.0        63.9       15.0       4.0            0  \n",
       "9548      3174.0        43.5       10.0       0.0            1  \n",
       "...          ...         ...        ...       ...          ...  \n",
       "13123    21623.0        62.2       36.0       3.0            0  \n",
       "3264     11401.0        57.6       57.0       1.0            1  \n",
       "9845     21930.0        69.2       27.0       4.0            0  \n",
       "10799     8767.0        63.1       23.0       5.0            0  \n",
       "2732      8774.0        90.7       23.0       0.0            0  \n",
       "\n",
       "[10849 rows x 12 columns]"
      ]
     },
     "execution_count": 38,
     "metadata": {},
     "output_type": "execute_result"
    }
   ],
   "source": [
    "train"
   ]
  },
  {
   "cell_type": "code",
   "execution_count": 39,
   "metadata": {},
   "outputs": [],
   "source": [
    "test = pd.concat([X_test, pd.DataFrame(y_test, columns=['loan_status'])], axis=1)"
   ]
  },
  {
   "cell_type": "code",
   "execution_count": 40,
   "metadata": {},
   "outputs": [
    {
     "data": {
      "text/html": [
       "<div>\n",
       "<style scoped>\n",
       "    .dataframe tbody tr th:only-of-type {\n",
       "        vertical-align: middle;\n",
       "    }\n",
       "\n",
       "    .dataframe tbody tr th {\n",
       "        vertical-align: top;\n",
       "    }\n",
       "\n",
       "    .dataframe thead th {\n",
       "        text-align: right;\n",
       "    }\n",
       "</style>\n",
       "<table border=\"1\" class=\"dataframe\">\n",
       "  <thead>\n",
       "    <tr style=\"text-align: right;\">\n",
       "      <th></th>\n",
       "      <th>term</th>\n",
       "      <th>int_rate</th>\n",
       "      <th>installment</th>\n",
       "      <th>emp_length</th>\n",
       "      <th>annual_inc</th>\n",
       "      <th>dti</th>\n",
       "      <th>pub_rec</th>\n",
       "      <th>revol_bal</th>\n",
       "      <th>revol_util</th>\n",
       "      <th>total_acc</th>\n",
       "      <th>mort_acc</th>\n",
       "      <th>loan_status</th>\n",
       "    </tr>\n",
       "  </thead>\n",
       "  <tbody>\n",
       "    <tr>\n",
       "      <th>1861</th>\n",
       "      <td>36</td>\n",
       "      <td>8.90</td>\n",
       "      <td>79.39</td>\n",
       "      <td>0.0</td>\n",
       "      <td>21000.0</td>\n",
       "      <td>26.23</td>\n",
       "      <td>0.0</td>\n",
       "      <td>16146.0</td>\n",
       "      <td>80.3</td>\n",
       "      <td>11.0</td>\n",
       "      <td>0.000000</td>\n",
       "      <td>0</td>\n",
       "    </tr>\n",
       "    <tr>\n",
       "      <th>11971</th>\n",
       "      <td>36</td>\n",
       "      <td>15.81</td>\n",
       "      <td>315.57</td>\n",
       "      <td>10.0</td>\n",
       "      <td>45000.0</td>\n",
       "      <td>10.69</td>\n",
       "      <td>0.0</td>\n",
       "      <td>6599.0</td>\n",
       "      <td>88.0</td>\n",
       "      <td>19.0</td>\n",
       "      <td>0.000000</td>\n",
       "      <td>1</td>\n",
       "    </tr>\n",
       "    <tr>\n",
       "      <th>10411</th>\n",
       "      <td>36</td>\n",
       "      <td>15.31</td>\n",
       "      <td>633.68</td>\n",
       "      <td>8.0</td>\n",
       "      <td>61000.0</td>\n",
       "      <td>17.06</td>\n",
       "      <td>0.0</td>\n",
       "      <td>3698.0</td>\n",
       "      <td>88.0</td>\n",
       "      <td>21.0</td>\n",
       "      <td>4.000000</td>\n",
       "      <td>0</td>\n",
       "    </tr>\n",
       "    <tr>\n",
       "      <th>3998</th>\n",
       "      <td>36</td>\n",
       "      <td>22.45</td>\n",
       "      <td>783.85</td>\n",
       "      <td>6.0</td>\n",
       "      <td>70000.0</td>\n",
       "      <td>21.72</td>\n",
       "      <td>0.0</td>\n",
       "      <td>18596.0</td>\n",
       "      <td>93.9</td>\n",
       "      <td>33.0</td>\n",
       "      <td>4.000000</td>\n",
       "      <td>1</td>\n",
       "    </tr>\n",
       "    <tr>\n",
       "      <th>2686</th>\n",
       "      <td>36</td>\n",
       "      <td>12.69</td>\n",
       "      <td>161.02</td>\n",
       "      <td>6.0</td>\n",
       "      <td>48000.0</td>\n",
       "      <td>4.00</td>\n",
       "      <td>1.0</td>\n",
       "      <td>1361.0</td>\n",
       "      <td>64.8</td>\n",
       "      <td>7.0</td>\n",
       "      <td>1.590594</td>\n",
       "      <td>1</td>\n",
       "    </tr>\n",
       "    <tr>\n",
       "      <th>...</th>\n",
       "      <td>...</td>\n",
       "      <td>...</td>\n",
       "      <td>...</td>\n",
       "      <td>...</td>\n",
       "      <td>...</td>\n",
       "      <td>...</td>\n",
       "      <td>...</td>\n",
       "      <td>...</td>\n",
       "      <td>...</td>\n",
       "      <td>...</td>\n",
       "      <td>...</td>\n",
       "      <td>...</td>\n",
       "    </tr>\n",
       "    <tr>\n",
       "      <th>5540</th>\n",
       "      <td>36</td>\n",
       "      <td>10.65</td>\n",
       "      <td>309.45</td>\n",
       "      <td>7.0</td>\n",
       "      <td>30000.0</td>\n",
       "      <td>19.84</td>\n",
       "      <td>0.0</td>\n",
       "      <td>9311.0</td>\n",
       "      <td>50.9</td>\n",
       "      <td>16.0</td>\n",
       "      <td>1.590594</td>\n",
       "      <td>0</td>\n",
       "    </tr>\n",
       "    <tr>\n",
       "      <th>2579</th>\n",
       "      <td>36</td>\n",
       "      <td>21.49</td>\n",
       "      <td>830.61</td>\n",
       "      <td>2.0</td>\n",
       "      <td>65000.0</td>\n",
       "      <td>13.89</td>\n",
       "      <td>0.0</td>\n",
       "      <td>17298.0</td>\n",
       "      <td>71.5</td>\n",
       "      <td>10.0</td>\n",
       "      <td>0.000000</td>\n",
       "      <td>1</td>\n",
       "    </tr>\n",
       "    <tr>\n",
       "      <th>882</th>\n",
       "      <td>36</td>\n",
       "      <td>18.75</td>\n",
       "      <td>484.02</td>\n",
       "      <td>6.0</td>\n",
       "      <td>85000.0</td>\n",
       "      <td>5.27</td>\n",
       "      <td>0.0</td>\n",
       "      <td>6121.0</td>\n",
       "      <td>69.5</td>\n",
       "      <td>18.0</td>\n",
       "      <td>0.000000</td>\n",
       "      <td>0</td>\n",
       "    </tr>\n",
       "    <tr>\n",
       "      <th>2576</th>\n",
       "      <td>36</td>\n",
       "      <td>12.12</td>\n",
       "      <td>665.44</td>\n",
       "      <td>0.0</td>\n",
       "      <td>90000.0</td>\n",
       "      <td>13.68</td>\n",
       "      <td>0.0</td>\n",
       "      <td>16205.0</td>\n",
       "      <td>85.3</td>\n",
       "      <td>14.0</td>\n",
       "      <td>0.000000</td>\n",
       "      <td>0</td>\n",
       "    </tr>\n",
       "    <tr>\n",
       "      <th>6952</th>\n",
       "      <td>60</td>\n",
       "      <td>16.29</td>\n",
       "      <td>469.88</td>\n",
       "      <td>8.0</td>\n",
       "      <td>42000.0</td>\n",
       "      <td>16.14</td>\n",
       "      <td>0.0</td>\n",
       "      <td>8464.0</td>\n",
       "      <td>50.4</td>\n",
       "      <td>23.0</td>\n",
       "      <td>2.000000</td>\n",
       "      <td>1</td>\n",
       "    </tr>\n",
       "  </tbody>\n",
       "</table>\n",
       "<p>2713 rows × 12 columns</p>\n",
       "</div>"
      ],
      "text/plain": [
       "       term  int_rate  installment  emp_length  annual_inc    dti  pub_rec  \\\n",
       "1861     36      8.90        79.39         0.0     21000.0  26.23      0.0   \n",
       "11971    36     15.81       315.57        10.0     45000.0  10.69      0.0   \n",
       "10411    36     15.31       633.68         8.0     61000.0  17.06      0.0   \n",
       "3998     36     22.45       783.85         6.0     70000.0  21.72      0.0   \n",
       "2686     36     12.69       161.02         6.0     48000.0   4.00      1.0   \n",
       "...     ...       ...          ...         ...         ...    ...      ...   \n",
       "5540     36     10.65       309.45         7.0     30000.0  19.84      0.0   \n",
       "2579     36     21.49       830.61         2.0     65000.0  13.89      0.0   \n",
       "882      36     18.75       484.02         6.0     85000.0   5.27      0.0   \n",
       "2576     36     12.12       665.44         0.0     90000.0  13.68      0.0   \n",
       "6952     60     16.29       469.88         8.0     42000.0  16.14      0.0   \n",
       "\n",
       "       revol_bal  revol_util  total_acc  mort_acc  loan_status  \n",
       "1861     16146.0        80.3       11.0  0.000000            0  \n",
       "11971     6599.0        88.0       19.0  0.000000            1  \n",
       "10411     3698.0        88.0       21.0  4.000000            0  \n",
       "3998     18596.0        93.9       33.0  4.000000            1  \n",
       "2686      1361.0        64.8        7.0  1.590594            1  \n",
       "...          ...         ...        ...       ...          ...  \n",
       "5540      9311.0        50.9       16.0  1.590594            0  \n",
       "2579     17298.0        71.5       10.0  0.000000            1  \n",
       "882       6121.0        69.5       18.0  0.000000            0  \n",
       "2576     16205.0        85.3       14.0  0.000000            0  \n",
       "6952      8464.0        50.4       23.0  2.000000            1  \n",
       "\n",
       "[2713 rows x 12 columns]"
      ]
     },
     "execution_count": 40,
     "metadata": {},
     "output_type": "execute_result"
    }
   ],
   "source": [
    "test"
   ]
  },
  {
   "cell_type": "code",
   "execution_count": 41,
   "metadata": {},
   "outputs": [],
   "source": [
    "train.to_csv('../data/train/train_balmix01.csv', index=False)\n",
    "test.to_csv('../data/test/test_balmix01.csv', index=False)"
   ]
  },
  {
   "cell_type": "code",
   "execution_count": 42,
   "metadata": {},
   "outputs": [],
   "source": [
    "from sklearn.preprocessing import StandardScaler\n",
    "\n",
    "scaler = StandardScaler()\n",
    "\n",
    "X_train_scal = scaler.fit_transform(X_train)\n",
    "X_test_scal = scaler.transform(X_test)"
   ]
  },
  {
   "cell_type": "code",
   "execution_count": 43,
   "metadata": {},
   "outputs": [],
   "source": [
    "log_reg = LogisticRegression(max_iter=1000)"
   ]
  },
  {
   "cell_type": "code",
   "execution_count": 44,
   "metadata": {},
   "outputs": [
    {
     "name": "stdout",
     "output_type": "stream",
     "text": [
      "[0.64160378 0.63639049 0.62637595 0.65687516 0.66446951 0.62923443\n",
      " 0.63785557 0.62227965 0.63636759 0.62051757]\n",
      "0.6371969700668675\n",
      "0.01354045606313011\n"
     ]
    }
   ],
   "source": [
    "cv_results = cross_val_score(log_reg, X, y, cv=10, scoring=\"roc_auc\")\n",
    "print(cv_results)\n",
    "print(cv_results.mean())\n",
    "print(cv_results.std())"
   ]
  },
  {
   "cell_type": "code",
   "execution_count": 45,
   "metadata": {},
   "outputs": [
    {
     "data": {
      "text/html": [
       "<style>#sk-container-id-2 {color: black;}#sk-container-id-2 pre{padding: 0;}#sk-container-id-2 div.sk-toggleable {background-color: white;}#sk-container-id-2 label.sk-toggleable__label {cursor: pointer;display: block;width: 100%;margin-bottom: 0;padding: 0.3em;box-sizing: border-box;text-align: center;}#sk-container-id-2 label.sk-toggleable__label-arrow:before {content: \"▸\";float: left;margin-right: 0.25em;color: #696969;}#sk-container-id-2 label.sk-toggleable__label-arrow:hover:before {color: black;}#sk-container-id-2 div.sk-estimator:hover label.sk-toggleable__label-arrow:before {color: black;}#sk-container-id-2 div.sk-toggleable__content {max-height: 0;max-width: 0;overflow: hidden;text-align: left;background-color: #f0f8ff;}#sk-container-id-2 div.sk-toggleable__content pre {margin: 0.2em;color: black;border-radius: 0.25em;background-color: #f0f8ff;}#sk-container-id-2 input.sk-toggleable__control:checked~div.sk-toggleable__content {max-height: 200px;max-width: 100%;overflow: auto;}#sk-container-id-2 input.sk-toggleable__control:checked~label.sk-toggleable__label-arrow:before {content: \"▾\";}#sk-container-id-2 div.sk-estimator input.sk-toggleable__control:checked~label.sk-toggleable__label {background-color: #d4ebff;}#sk-container-id-2 div.sk-label input.sk-toggleable__control:checked~label.sk-toggleable__label {background-color: #d4ebff;}#sk-container-id-2 input.sk-hidden--visually {border: 0;clip: rect(1px 1px 1px 1px);clip: rect(1px, 1px, 1px, 1px);height: 1px;margin: -1px;overflow: hidden;padding: 0;position: absolute;width: 1px;}#sk-container-id-2 div.sk-estimator {font-family: monospace;background-color: #f0f8ff;border: 1px dotted black;border-radius: 0.25em;box-sizing: border-box;margin-bottom: 0.5em;}#sk-container-id-2 div.sk-estimator:hover {background-color: #d4ebff;}#sk-container-id-2 div.sk-parallel-item::after {content: \"\";width: 100%;border-bottom: 1px solid gray;flex-grow: 1;}#sk-container-id-2 div.sk-label:hover label.sk-toggleable__label {background-color: #d4ebff;}#sk-container-id-2 div.sk-serial::before {content: \"\";position: absolute;border-left: 1px solid gray;box-sizing: border-box;top: 0;bottom: 0;left: 50%;z-index: 0;}#sk-container-id-2 div.sk-serial {display: flex;flex-direction: column;align-items: center;background-color: white;padding-right: 0.2em;padding-left: 0.2em;position: relative;}#sk-container-id-2 div.sk-item {position: relative;z-index: 1;}#sk-container-id-2 div.sk-parallel {display: flex;align-items: stretch;justify-content: center;background-color: white;position: relative;}#sk-container-id-2 div.sk-item::before, #sk-container-id-2 div.sk-parallel-item::before {content: \"\";position: absolute;border-left: 1px solid gray;box-sizing: border-box;top: 0;bottom: 0;left: 50%;z-index: -1;}#sk-container-id-2 div.sk-parallel-item {display: flex;flex-direction: column;z-index: 1;position: relative;background-color: white;}#sk-container-id-2 div.sk-parallel-item:first-child::after {align-self: flex-end;width: 50%;}#sk-container-id-2 div.sk-parallel-item:last-child::after {align-self: flex-start;width: 50%;}#sk-container-id-2 div.sk-parallel-item:only-child::after {width: 0;}#sk-container-id-2 div.sk-dashed-wrapped {border: 1px dashed gray;margin: 0 0.4em 0.5em 0.4em;box-sizing: border-box;padding-bottom: 0.4em;background-color: white;}#sk-container-id-2 div.sk-label label {font-family: monospace;font-weight: bold;display: inline-block;line-height: 1.2em;}#sk-container-id-2 div.sk-label-container {text-align: center;}#sk-container-id-2 div.sk-container {/* jupyter's `normalize.less` sets `[hidden] { display: none; }` but bootstrap.min.css set `[hidden] { display: none !important; }` so we also need the `!important` here to be able to override the default hidden behavior on the sphinx rendered scikit-learn.org. See: https://github.com/scikit-learn/scikit-learn/issues/21755 */display: inline-block !important;position: relative;}#sk-container-id-2 div.sk-text-repr-fallback {display: none;}</style><div id=\"sk-container-id-2\" class=\"sk-top-container\"><div class=\"sk-text-repr-fallback\"><pre>LogisticRegression(max_iter=1000)</pre><b>In a Jupyter environment, please rerun this cell to show the HTML representation or trust the notebook. <br />On GitHub, the HTML representation is unable to render, please try loading this page with nbviewer.org.</b></div><div class=\"sk-container\" hidden><div class=\"sk-item\"><div class=\"sk-estimator sk-toggleable\"><input class=\"sk-toggleable__control sk-hidden--visually\" id=\"sk-estimator-id-2\" type=\"checkbox\" checked><label for=\"sk-estimator-id-2\" class=\"sk-toggleable__label sk-toggleable__label-arrow\">LogisticRegression</label><div class=\"sk-toggleable__content\"><pre>LogisticRegression(max_iter=1000)</pre></div></div></div></div></div>"
      ],
      "text/plain": [
       "LogisticRegression(max_iter=1000)"
      ]
     },
     "execution_count": 45,
     "metadata": {},
     "output_type": "execute_result"
    }
   ],
   "source": [
    "log_reg.fit(X_train_scal, y_train)"
   ]
  },
  {
   "cell_type": "code",
   "execution_count": 46,
   "metadata": {},
   "outputs": [
    {
     "data": {
      "text/plain": [
       "array([0, 1, 1, ..., 1, 0, 1], dtype=int64)"
      ]
     },
     "execution_count": 46,
     "metadata": {},
     "output_type": "execute_result"
    }
   ],
   "source": [
    "y_pred = log_reg.predict(X_test_scal)\n",
    "y_pred"
   ]
  },
  {
   "cell_type": "code",
   "execution_count": 47,
   "metadata": {},
   "outputs": [
    {
     "data": {
      "text/plain": [
       "0.6332473276815334"
      ]
     },
     "execution_count": 47,
     "metadata": {},
     "output_type": "execute_result"
    }
   ],
   "source": [
    "accuracy_score(y_test, y_pred)"
   ]
  },
  {
   "cell_type": "code",
   "execution_count": 48,
   "metadata": {},
   "outputs": [
    {
     "data": {
      "text/plain": [
       "array([[911, 450],\n",
       "       [545, 807]], dtype=int64)"
      ]
     },
     "execution_count": 48,
     "metadata": {},
     "output_type": "execute_result"
    }
   ],
   "source": [
    "c_mat = confusion_matrix(y_test, y_pred)\n",
    "c_mat"
   ]
  },
  {
   "cell_type": "code",
   "execution_count": 49,
   "metadata": {},
   "outputs": [
    {
     "data": {
      "text/plain": [
       "0.6420047732696897"
      ]
     },
     "execution_count": 49,
     "metadata": {},
     "output_type": "execute_result"
    }
   ],
   "source": [
    "precision_score(y_test, y_pred)"
   ]
  },
  {
   "cell_type": "code",
   "execution_count": 50,
   "metadata": {},
   "outputs": [
    {
     "data": {
      "text/plain": [
       "0.5968934911242604"
      ]
     },
     "execution_count": 50,
     "metadata": {},
     "output_type": "execute_result"
    }
   ],
   "source": [
    "recall_score(y_test, y_pred)"
   ]
  },
  {
   "cell_type": "code",
   "execution_count": 51,
   "metadata": {},
   "outputs": [
    {
     "data": {
      "text/plain": [
       "0.6186278267535454"
      ]
     },
     "execution_count": 51,
     "metadata": {},
     "output_type": "execute_result"
    }
   ],
   "source": [
    "f1_score(y_test, y_pred)"
   ]
  },
  {
   "cell_type": "code",
   "execution_count": 52,
   "metadata": {},
   "outputs": [
    {
     "data": {
      "text/plain": [
       "0.6331271276341361"
      ]
     },
     "execution_count": 52,
     "metadata": {},
     "output_type": "execute_result"
    }
   ],
   "source": [
    "roc_auc_score(y_test, y_pred)"
   ]
  },
  {
   "cell_type": "code",
   "execution_count": 53,
   "metadata": {},
   "outputs": [
    {
     "data": {
      "text/plain": [
       "array([[0.57432434, 0.42567566],\n",
       "       [0.46724319, 0.53275681],\n",
       "       [0.48919455, 0.51080545],\n",
       "       ...,\n",
       "       [0.47512536, 0.52487464],\n",
       "       [0.62335651, 0.37664349],\n",
       "       [0.26271765, 0.73728235]])"
      ]
     },
     "execution_count": 53,
     "metadata": {},
     "output_type": "execute_result"
    }
   ],
   "source": [
    "y_pred_proba = log_reg.predict_proba(X_test_scal)\n",
    "y_pred_proba"
   ]
  },
  {
   "cell_type": "code",
   "execution_count": 54,
   "metadata": {},
   "outputs": [],
   "source": [
    "fpr, tpr, thresholds = roc_curve(y_test, y_pred_proba[:,1])"
   ]
  },
  {
   "cell_type": "code",
   "execution_count": 55,
   "metadata": {},
   "outputs": [
    {
     "data": {
      "text/plain": [
       "Text(0, 0.5, 'True positive rate')"
      ]
     },
     "execution_count": 55,
     "metadata": {},
     "output_type": "execute_result"
    },
    {
     "data": {
      "image/png": "[encoded data removed]",
      "text/plain": [
       "<Figure size 640x480 with 1 Axes>"
      ]
     },
     "metadata": {},
     "output_type": "display_data"
    }
   ],
   "source": [
    "plt.plot(fpr, tpr)\n",
    "plt.xlabel(\"False positive rate\")\n",
    "plt.ylabel(\"True positive rate\")"
   ]
  },
  {
   "cell_type": "code",
   "execution_count": 56,
   "metadata": {},
   "outputs": [],
   "source": [
    "precisions, recalls, thresholds = precision_recall_curve(y_test, y_pred_proba[:,1])"
   ]
  },
  {
   "cell_type": "code",
   "execution_count": 57,
   "metadata": {},
   "outputs": [
    {
     "data": {
      "text/plain": [
       "Text(0, 0.5, 'Precision')"
      ]
     },
     "execution_count": 57,
     "metadata": {},
     "output_type": "execute_result"
    },
    {
     "data": {
      "image/png": "[encoded data removed]",
      "text/plain": [
       "<Figure size 640x480 with 1 Axes>"
      ]
     },
     "metadata": {},
     "output_type": "display_data"
    }
   ],
   "source": [
    "plt.plot(recalls, precisions)\n",
    "plt.xlabel(\"Recall\")\n",
    "plt.ylabel(\"Precision\")"
   ]
  },
  {
   "cell_type": "code",
   "execution_count": null,
   "metadata": {},
   "outputs": [],
   "source": [
    "\n",
    "    \n",
    "# with open('my_model_primero_logreg.pkl', \"wb\") as archivo_salida:\n",
    "#     pickle.dump(log_reg, archivo_salida)\n"
   ]
  }
 ],
 "metadata": {
  "kernelspec": {
   "display_name": "Python 3",
   "language": "python",
   "name": "python3"
  },
  "language_info": {
   "codemirror_mode": {
    "name": "ipython",
    "version": 3
   },
   "file_extension": ".py",
   "mimetype": "text/x-python",
   "name": "python",
   "nbconvert_exporter": "python",
   "pygments_lexer": "ipython3",
   "version": "3.11.5"
  }
 },
 "nbformat": 4,
 "nbformat_minor": 2
}
