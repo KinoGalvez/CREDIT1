{
 "cells": [
  {
   "cell_type": "markdown",
   "metadata": {},
   "source": [
    "Las fuentes que he usado estan en la siguiente url : https://www.kaggle.com/datasets/jeandedieunyandwi/lending-club-dataset/data"
   ]
  },
  {
   "cell_type": "code",
   "execution_count": 1,
   "metadata": {},
   "outputs": [
    {
     "name": "stdout",
     "output_type": "stream",
     "text": [
      "<class 'pandas.core.frame.DataFrame'>\n",
      "RangeIndex: 396030 entries, 0 to 396029\n",
      "Data columns (total 27 columns):\n",
      " #   Column                Non-Null Count   Dtype  \n",
      "---  ------                --------------   -----  \n",
      " 0   loan_amnt             396030 non-null  float64\n",
      " 1   term                  396030 non-null  object \n",
      " 2   int_rate              396030 non-null  float64\n",
      " 3   installment           396030 non-null  float64\n",
      " 4   grade                 396030 non-null  object \n",
      " 5   sub_grade             396030 non-null  object \n",
      " 6   emp_title             373103 non-null  object \n",
      " 7   emp_length            377729 non-null  object \n",
      " 8   home_ownership        396030 non-null  object \n",
      " 9   annual_inc            396030 non-null  float64\n",
      " 10  verification_status   396030 non-null  object \n",
      " 11  issue_d               396030 non-null  object \n",
      " 12  loan_status           396030 non-null  object \n",
      " 13  purpose               396030 non-null  object \n",
      " 14  title                 394274 non-null  object \n",
      " 15  dti                   396030 non-null  float64\n",
      " 16  earliest_cr_line      396030 non-null  object \n",
      " 17  open_acc              396030 non-null  float64\n",
      " 18  pub_rec               396030 non-null  float64\n",
      " 19  revol_bal             396030 non-null  float64\n",
      " 20  revol_util            395754 non-null  float64\n",
      " 21  total_acc             396030 non-null  float64\n",
      " 22  initial_list_status   396030 non-null  object \n",
      " 23  application_type      396030 non-null  object \n",
      " 24  mort_acc              358235 non-null  float64\n",
      " 25  pub_rec_bankruptcies  395495 non-null  float64\n",
      " 26  address               396030 non-null  object \n",
      "dtypes: float64(12), object(15)\n",
      "memory usage: 81.6+ MB\n"
     ]
    }
   ],
   "source": [
    "import pandas as pd\n",
    "\n",
    "# Cargar los archivos en DataFrames\n",
    "lc = pd.read_csv('../data/raw/lending_club_loan_two.csv')\n",
    "lc.info()"
   ]
  },
  {
   "cell_type": "markdown",
   "metadata": {},
   "source": [
    "La celda siguiente, da una breve explicacion de lo que contiene, cada columna-feature"
   ]
  },
  {
   "cell_type": "code",
   "execution_count": null,
   "metadata": {},
   "outputs": [],
   "source": [
    "# loan_amnt: Monto del préstamo solicitado.\n",
    "# term: Plazo del préstamo en meses.\n",
    "# int_rate: Tasa de interés del préstamo.\n",
    "# installment: Pago mensual del préstamo.\n",
    "# grade: Grado asignado al préstamo por LendingClub (A, B, C, etc.).\n",
    "# sub_grade: Subgrado asignado al préstamo por LendingClub (A1, A2, B1, etc.).\n",
    "# emp_title: Título laboral del prestatario.\n",
    "# emp_length: Antigüedad laboral del prestatario en años.\n",
    "# home_ownership: Estado de propiedad de la vivienda del prestatario (RENT, OWN, MORTGAGE, OTHER).\n",
    "# annual_inc: Ingreso anual del prestatario.\n",
    "# verification_status: Estado de verificación del ingreso del prestatario.\n",
    "# issue_d: Fecha en la que se emitió el préstamo.\n",
    "# loan_status: Estado actual del préstamo (Fully Paid, Charged Off, etc.).\n",
    "# purpose: Propósito del préstamo.\n",
    "# title: Título del préstamo proporcionado por el prestatario.\n",
    "# dti: Relación entre las deudas y el ingreso del prestatario.\n",
    "# earliest_cr_line: Fecha en que se abrió la primera línea de crédito del prestatario.\n",
    "# open_acc: Número de líneas de crédito abiertas en el archivo del prestatario.\n",
    "# pub_rec: Número de registros públicos desfavorables.\n",
    "# revol_bal: Saldo total de las cuentas de crédito renovable.\n",
    "# revol_util: Tasa de utilización de las cuentas de crédito renovable.\n",
    "# total_acc: Número total de cuentas de crédito del prestatario.\n",
    "# initial_list_status: Estado inicial de la lista del préstamo (W, F).\n",
    "# application_type: Tipo de aplicación (INDIVIDUAL, JOINT).\n",
    "# mort_acc: Número de cuentas hipotecarias.\n",
    "# pub_rec_bankruptcies: Número de quiebras en los registros públicos.\n",
    "# address: Dirección del prestatario."
   ]
  }
 ],
 "metadata": {
  "kernelspec": {
   "display_name": "Python 3",
   "language": "python",
   "name": "python3"
  },
  "language_info": {
   "codemirror_mode": {
    "name": "ipython",
    "version": 3
   },
   "file_extension": ".py",
   "mimetype": "text/x-python",
   "name": "python",
   "nbconvert_exporter": "python",
   "pygments_lexer": "ipython3",
   "version": "3.11.5"
  }
 },
 "nbformat": 4,
 "nbformat_minor": 2
}
