{
 "cells": [
  {
   "cell_type": "code",
   "execution_count": 1,
   "metadata": {},
   "outputs": [],
   "source": [
    "import pandas as pd\n",
    "import numpy as np\n",
    "import matplotlib.pyplot as plt\n",
    "import seaborn as sns\n",
    "from sklearn.pipeline import Pipeline\n",
    "from sklearn.ensemble import RandomForestClassifier, GradientBoostingClassifier\n",
    "from sklearn.linear_model import LogisticRegression\n",
    "from sklearn.neighbors import KNeighborsClassifier\n",
    "from sklearn.svm import SVC\n",
    "from sklearn.preprocessing import StandardScaler\n",
    "from sklearn.feature_selection import SelectKBest\n",
    "from sklearn.model_selection import GridSearchCV, RandomizedSearchCV, cross_val_score\n",
    "from sklearn.metrics import accuracy_score, confusion_matrix, recall_score, precision_score, roc_auc_score, f1_score, roc_curve, precision_recall_curve,auc\n",
    "import warnings\n",
    "warnings.filterwarnings(\"ignore\")\n",
    "import pickle"
   ]
  },
  {
   "cell_type": "code",
   "execution_count": 2,
   "metadata": {},
   "outputs": [],
   "source": [
    "X = pd.read_csv('X_balmix_cat_mean.csv')\n",
    "y = pd.read_csv('y_balmix_cat_mean.csv')"
   ]
  },
  {
   "cell_type": "code",
   "execution_count": 3,
   "metadata": {},
   "outputs": [],
   "source": [
    "from sklearn.model_selection import train_test_split\n",
    "\n",
    "X_train, X_test, y_train, y_test = train_test_split(X, y, test_size=0.2, random_state=0)"
   ]
  },
  {
   "cell_type": "code",
   "execution_count": 4,
   "metadata": {},
   "outputs": [
    {
     "name": "stdout",
     "output_type": "stream",
     "text": [
      "(10849, 15)\n",
      "(2713, 15)\n",
      "(10849, 1)\n",
      "(2713, 1)\n"
     ]
    }
   ],
   "source": [
    "print(X_train.shape)\n",
    "print(X_test.shape)\n",
    "print(y_train.shape)\n",
    "print(y_test.shape)"
   ]
  },
  {
   "cell_type": "code",
   "execution_count": 5,
   "metadata": {},
   "outputs": [],
   "source": [
    "train = pd.concat([X_train, pd.DataFrame(y_train, columns=['loan_status'])], axis=1)\n",
    "\n"
   ]
  },
  {
   "cell_type": "code",
   "execution_count": 6,
   "metadata": {},
   "outputs": [
    {
     "data": {
      "text/html": [
       "<div>\n",
       "<style scoped>\n",
       "    .dataframe tbody tr th:only-of-type {\n",
       "        vertical-align: middle;\n",
       "    }\n",
       "\n",
       "    .dataframe tbody tr th {\n",
       "        vertical-align: top;\n",
       "    }\n",
       "\n",
       "    .dataframe thead th {\n",
       "        text-align: right;\n",
       "    }\n",
       "</style>\n",
       "<table border=\"1\" class=\"dataframe\">\n",
       "  <thead>\n",
       "    <tr style=\"text-align: right;\">\n",
       "      <th></th>\n",
       "      <th>term</th>\n",
       "      <th>int_rate</th>\n",
       "      <th>installment</th>\n",
       "      <th>emp_length</th>\n",
       "      <th>home_ownership</th>\n",
       "      <th>annual_inc</th>\n",
       "      <th>purpose</th>\n",
       "      <th>dti</th>\n",
       "      <th>pub_rec</th>\n",
       "      <th>revol_bal</th>\n",
       "      <th>revol_util</th>\n",
       "      <th>total_acc</th>\n",
       "      <th>initial_list_status</th>\n",
       "      <th>mort_acc</th>\n",
       "      <th>pub_rec_bankruptcies</th>\n",
       "      <th>loan_status</th>\n",
       "    </tr>\n",
       "  </thead>\n",
       "  <tbody>\n",
       "    <tr>\n",
       "      <th>11676</th>\n",
       "      <td>0.560763</td>\n",
       "      <td>8.90</td>\n",
       "      <td>139.72</td>\n",
       "      <td>0.520332</td>\n",
       "      <td>0.479546</td>\n",
       "      <td>44000.0</td>\n",
       "      <td>0.473215</td>\n",
       "      <td>22.94</td>\n",
       "      <td>0.500914</td>\n",
       "      <td>4318.0</td>\n",
       "      <td>58.4</td>\n",
       "      <td>0.497006</td>\n",
       "      <td>0.498455</td>\n",
       "      <td>0.483154</td>\n",
       "      <td>0.500871</td>\n",
       "      <td>1</td>\n",
       "    </tr>\n",
       "    <tr>\n",
       "      <th>3747</th>\n",
       "      <td>0.560763</td>\n",
       "      <td>15.31</td>\n",
       "      <td>139.27</td>\n",
       "      <td>0.506836</td>\n",
       "      <td>0.479546</td>\n",
       "      <td>15000.0</td>\n",
       "      <td>0.473215</td>\n",
       "      <td>31.20</td>\n",
       "      <td>0.500914</td>\n",
       "      <td>4328.0</td>\n",
       "      <td>92.1</td>\n",
       "      <td>0.492647</td>\n",
       "      <td>0.498455</td>\n",
       "      <td>0.483154</td>\n",
       "      <td>0.500871</td>\n",
       "      <td>0</td>\n",
       "    </tr>\n",
       "    <tr>\n",
       "      <th>4911</th>\n",
       "      <td>0.560763</td>\n",
       "      <td>6.62</td>\n",
       "      <td>313.18</td>\n",
       "      <td>0.513181</td>\n",
       "      <td>0.523856</td>\n",
       "      <td>111800.0</td>\n",
       "      <td>0.581884</td>\n",
       "      <td>9.30</td>\n",
       "      <td>0.500914</td>\n",
       "      <td>32387.0</td>\n",
       "      <td>40.5</td>\n",
       "      <td>0.518519</td>\n",
       "      <td>0.498455</td>\n",
       "      <td>0.542182</td>\n",
       "      <td>0.500871</td>\n",
       "      <td>1</td>\n",
       "    </tr>\n",
       "    <tr>\n",
       "      <th>6451</th>\n",
       "      <td>0.560763</td>\n",
       "      <td>8.90</td>\n",
       "      <td>698.58</td>\n",
       "      <td>0.528529</td>\n",
       "      <td>0.523856</td>\n",
       "      <td>100000.0</td>\n",
       "      <td>0.575362</td>\n",
       "      <td>9.42</td>\n",
       "      <td>0.500914</td>\n",
       "      <td>12781.0</td>\n",
       "      <td>63.9</td>\n",
       "      <td>0.509804</td>\n",
       "      <td>0.520723</td>\n",
       "      <td>0.541608</td>\n",
       "      <td>0.500871</td>\n",
       "      <td>1</td>\n",
       "    </tr>\n",
       "    <tr>\n",
       "      <th>9548</th>\n",
       "      <td>0.560763</td>\n",
       "      <td>9.76</td>\n",
       "      <td>437.31</td>\n",
       "      <td>0.520332</td>\n",
       "      <td>0.479546</td>\n",
       "      <td>36096.0</td>\n",
       "      <td>0.473215</td>\n",
       "      <td>27.26</td>\n",
       "      <td>0.500914</td>\n",
       "      <td>3174.0</td>\n",
       "      <td>43.5</td>\n",
       "      <td>0.477064</td>\n",
       "      <td>0.498455</td>\n",
       "      <td>0.483154</td>\n",
       "      <td>0.500871</td>\n",
       "      <td>0</td>\n",
       "    </tr>\n",
       "    <tr>\n",
       "      <th>...</th>\n",
       "      <td>...</td>\n",
       "      <td>...</td>\n",
       "      <td>...</td>\n",
       "      <td>...</td>\n",
       "      <td>...</td>\n",
       "      <td>...</td>\n",
       "      <td>...</td>\n",
       "      <td>...</td>\n",
       "      <td>...</td>\n",
       "      <td>...</td>\n",
       "      <td>...</td>\n",
       "      <td>...</td>\n",
       "      <td>...</td>\n",
       "      <td>...</td>\n",
       "      <td>...</td>\n",
       "      <td>...</td>\n",
       "    </tr>\n",
       "    <tr>\n",
       "      <th>13123</th>\n",
       "      <td>0.560763</td>\n",
       "      <td>17.77</td>\n",
       "      <td>540.56</td>\n",
       "      <td>0.490360</td>\n",
       "      <td>0.523856</td>\n",
       "      <td>120000.0</td>\n",
       "      <td>0.581884</td>\n",
       "      <td>23.04</td>\n",
       "      <td>0.500914</td>\n",
       "      <td>21623.0</td>\n",
       "      <td>62.2</td>\n",
       "      <td>0.505263</td>\n",
       "      <td>0.498455</td>\n",
       "      <td>0.542182</td>\n",
       "      <td>0.500871</td>\n",
       "      <td>1</td>\n",
       "    </tr>\n",
       "    <tr>\n",
       "      <th>3264</th>\n",
       "      <td>0.273930</td>\n",
       "      <td>24.83</td>\n",
       "      <td>468.03</td>\n",
       "      <td>0.506836</td>\n",
       "      <td>0.523856</td>\n",
       "      <td>70000.0</td>\n",
       "      <td>0.522876</td>\n",
       "      <td>15.72</td>\n",
       "      <td>0.500914</td>\n",
       "      <td>11401.0</td>\n",
       "      <td>57.6</td>\n",
       "      <td>0.571429</td>\n",
       "      <td>0.498455</td>\n",
       "      <td>0.493500</td>\n",
       "      <td>0.500871</td>\n",
       "      <td>0</td>\n",
       "    </tr>\n",
       "    <tr>\n",
       "      <th>9845</th>\n",
       "      <td>0.560763</td>\n",
       "      <td>14.09</td>\n",
       "      <td>492.79</td>\n",
       "      <td>0.513181</td>\n",
       "      <td>0.479546</td>\n",
       "      <td>109000.0</td>\n",
       "      <td>0.473215</td>\n",
       "      <td>31.58</td>\n",
       "      <td>0.500914</td>\n",
       "      <td>21930.0</td>\n",
       "      <td>69.2</td>\n",
       "      <td>0.512953</td>\n",
       "      <td>0.498455</td>\n",
       "      <td>0.541608</td>\n",
       "      <td>0.500871</td>\n",
       "      <td>1</td>\n",
       "    </tr>\n",
       "    <tr>\n",
       "      <th>10799</th>\n",
       "      <td>0.560763</td>\n",
       "      <td>16.29</td>\n",
       "      <td>317.71</td>\n",
       "      <td>0.490360</td>\n",
       "      <td>0.523856</td>\n",
       "      <td>43000.0</td>\n",
       "      <td>0.473215</td>\n",
       "      <td>11.55</td>\n",
       "      <td>0.500914</td>\n",
       "      <td>8767.0</td>\n",
       "      <td>63.1</td>\n",
       "      <td>0.506958</td>\n",
       "      <td>0.498455</td>\n",
       "      <td>0.536383</td>\n",
       "      <td>0.500871</td>\n",
       "      <td>1</td>\n",
       "    </tr>\n",
       "    <tr>\n",
       "      <th>2732</th>\n",
       "      <td>0.560763</td>\n",
       "      <td>16.29</td>\n",
       "      <td>353.01</td>\n",
       "      <td>0.517796</td>\n",
       "      <td>0.484018</td>\n",
       "      <td>36000.0</td>\n",
       "      <td>0.581884</td>\n",
       "      <td>13.47</td>\n",
       "      <td>0.500914</td>\n",
       "      <td>8774.0</td>\n",
       "      <td>90.7</td>\n",
       "      <td>0.506958</td>\n",
       "      <td>0.498455</td>\n",
       "      <td>0.483154</td>\n",
       "      <td>0.500871</td>\n",
       "      <td>1</td>\n",
       "    </tr>\n",
       "  </tbody>\n",
       "</table>\n",
       "<p>10849 rows × 16 columns</p>\n",
       "</div>"
      ],
      "text/plain": [
       "           term  int_rate  installment  emp_length  home_ownership  \\\n",
       "11676  0.560763      8.90       139.72    0.520332        0.479546   \n",
       "3747   0.560763     15.31       139.27    0.506836        0.479546   \n",
       "4911   0.560763      6.62       313.18    0.513181        0.523856   \n",
       "6451   0.560763      8.90       698.58    0.528529        0.523856   \n",
       "9548   0.560763      9.76       437.31    0.520332        0.479546   \n",
       "...         ...       ...          ...         ...             ...   \n",
       "13123  0.560763     17.77       540.56    0.490360        0.523856   \n",
       "3264   0.273930     24.83       468.03    0.506836        0.523856   \n",
       "9845   0.560763     14.09       492.79    0.513181        0.479546   \n",
       "10799  0.560763     16.29       317.71    0.490360        0.523856   \n",
       "2732   0.560763     16.29       353.01    0.517796        0.484018   \n",
       "\n",
       "       annual_inc   purpose    dti   pub_rec  revol_bal  revol_util  \\\n",
       "11676     44000.0  0.473215  22.94  0.500914     4318.0        58.4   \n",
       "3747      15000.0  0.473215  31.20  0.500914     4328.0        92.1   \n",
       "4911     111800.0  0.581884   9.30  0.500914    32387.0        40.5   \n",
       "6451     100000.0  0.575362   9.42  0.500914    12781.0        63.9   \n",
       "9548      36096.0  0.473215  27.26  0.500914     3174.0        43.5   \n",
       "...           ...       ...    ...       ...        ...         ...   \n",
       "13123    120000.0  0.581884  23.04  0.500914    21623.0        62.2   \n",
       "3264      70000.0  0.522876  15.72  0.500914    11401.0        57.6   \n",
       "9845     109000.0  0.473215  31.58  0.500914    21930.0        69.2   \n",
       "10799     43000.0  0.473215  11.55  0.500914     8767.0        63.1   \n",
       "2732      36000.0  0.581884  13.47  0.500914     8774.0        90.7   \n",
       "\n",
       "       total_acc  initial_list_status  mort_acc  pub_rec_bankruptcies  \\\n",
       "11676   0.497006             0.498455  0.483154              0.500871   \n",
       "3747    0.492647             0.498455  0.483154              0.500871   \n",
       "4911    0.518519             0.498455  0.542182              0.500871   \n",
       "6451    0.509804             0.520723  0.541608              0.500871   \n",
       "9548    0.477064             0.498455  0.483154              0.500871   \n",
       "...          ...                  ...       ...                   ...   \n",
       "13123   0.505263             0.498455  0.542182              0.500871   \n",
       "3264    0.571429             0.498455  0.493500              0.500871   \n",
       "9845    0.512953             0.498455  0.541608              0.500871   \n",
       "10799   0.506958             0.498455  0.536383              0.500871   \n",
       "2732    0.506958             0.498455  0.483154              0.500871   \n",
       "\n",
       "       loan_status  \n",
       "11676            1  \n",
       "3747             0  \n",
       "4911             1  \n",
       "6451             1  \n",
       "9548             0  \n",
       "...            ...  \n",
       "13123            1  \n",
       "3264             0  \n",
       "9845             1  \n",
       "10799            1  \n",
       "2732             1  \n",
       "\n",
       "[10849 rows x 16 columns]"
      ]
     },
     "execution_count": 6,
     "metadata": {},
     "output_type": "execute_result"
    }
   ],
   "source": [
    "train"
   ]
  },
  {
   "cell_type": "code",
   "execution_count": 7,
   "metadata": {},
   "outputs": [],
   "source": [
    "test = pd.concat([X_test, pd.DataFrame(y_test, columns=['loan_status'])], axis=1)"
   ]
  },
  {
   "cell_type": "code",
   "execution_count": 8,
   "metadata": {},
   "outputs": [
    {
     "data": {
      "text/html": [
       "<div>\n",
       "<style scoped>\n",
       "    .dataframe tbody tr th:only-of-type {\n",
       "        vertical-align: middle;\n",
       "    }\n",
       "\n",
       "    .dataframe tbody tr th {\n",
       "        vertical-align: top;\n",
       "    }\n",
       "\n",
       "    .dataframe thead th {\n",
       "        text-align: right;\n",
       "    }\n",
       "</style>\n",
       "<table border=\"1\" class=\"dataframe\">\n",
       "  <thead>\n",
       "    <tr style=\"text-align: right;\">\n",
       "      <th></th>\n",
       "      <th>term</th>\n",
       "      <th>int_rate</th>\n",
       "      <th>installment</th>\n",
       "      <th>emp_length</th>\n",
       "      <th>home_ownership</th>\n",
       "      <th>annual_inc</th>\n",
       "      <th>purpose</th>\n",
       "      <th>dti</th>\n",
       "      <th>pub_rec</th>\n",
       "      <th>revol_bal</th>\n",
       "      <th>revol_util</th>\n",
       "      <th>total_acc</th>\n",
       "      <th>initial_list_status</th>\n",
       "      <th>mort_acc</th>\n",
       "      <th>pub_rec_bankruptcies</th>\n",
       "      <th>loan_status</th>\n",
       "    </tr>\n",
       "  </thead>\n",
       "  <tbody>\n",
       "    <tr>\n",
       "      <th>1861</th>\n",
       "      <td>0.560763</td>\n",
       "      <td>8.90</td>\n",
       "      <td>79.39</td>\n",
       "      <td>0.502326</td>\n",
       "      <td>0.479546</td>\n",
       "      <td>21000.0</td>\n",
       "      <td>0.581884</td>\n",
       "      <td>26.23</td>\n",
       "      <td>0.500914</td>\n",
       "      <td>16146.0</td>\n",
       "      <td>80.3</td>\n",
       "      <td>0.485411</td>\n",
       "      <td>0.498455</td>\n",
       "      <td>0.483154</td>\n",
       "      <td>0.500871</td>\n",
       "      <td>1</td>\n",
       "    </tr>\n",
       "    <tr>\n",
       "      <th>11971</th>\n",
       "      <td>0.560763</td>\n",
       "      <td>15.81</td>\n",
       "      <td>315.57</td>\n",
       "      <td>0.490360</td>\n",
       "      <td>0.479546</td>\n",
       "      <td>45000.0</td>\n",
       "      <td>0.473215</td>\n",
       "      <td>10.69</td>\n",
       "      <td>0.500914</td>\n",
       "      <td>6599.0</td>\n",
       "      <td>88.0</td>\n",
       "      <td>0.470930</td>\n",
       "      <td>0.498455</td>\n",
       "      <td>0.483154</td>\n",
       "      <td>0.500871</td>\n",
       "      <td>0</td>\n",
       "    </tr>\n",
       "    <tr>\n",
       "      <th>10411</th>\n",
       "      <td>0.560763</td>\n",
       "      <td>15.31</td>\n",
       "      <td>633.68</td>\n",
       "      <td>0.484797</td>\n",
       "      <td>0.479546</td>\n",
       "      <td>61000.0</td>\n",
       "      <td>0.473215</td>\n",
       "      <td>17.06</td>\n",
       "      <td>0.500914</td>\n",
       "      <td>3698.0</td>\n",
       "      <td>88.0</td>\n",
       "      <td>0.492647</td>\n",
       "      <td>0.498455</td>\n",
       "      <td>0.541608</td>\n",
       "      <td>0.500871</td>\n",
       "      <td>1</td>\n",
       "    </tr>\n",
       "    <tr>\n",
       "      <th>3998</th>\n",
       "      <td>0.560763</td>\n",
       "      <td>22.45</td>\n",
       "      <td>783.85</td>\n",
       "      <td>0.493506</td>\n",
       "      <td>0.479546</td>\n",
       "      <td>70000.0</td>\n",
       "      <td>0.575362</td>\n",
       "      <td>21.72</td>\n",
       "      <td>0.500914</td>\n",
       "      <td>18596.0</td>\n",
       "      <td>93.9</td>\n",
       "      <td>0.501916</td>\n",
       "      <td>0.498455</td>\n",
       "      <td>0.541608</td>\n",
       "      <td>0.500871</td>\n",
       "      <td>0</td>\n",
       "    </tr>\n",
       "    <tr>\n",
       "      <th>2686</th>\n",
       "      <td>0.560763</td>\n",
       "      <td>12.69</td>\n",
       "      <td>161.02</td>\n",
       "      <td>0.493506</td>\n",
       "      <td>0.523856</td>\n",
       "      <td>48000.0</td>\n",
       "      <td>0.575362</td>\n",
       "      <td>4.00</td>\n",
       "      <td>0.472684</td>\n",
       "      <td>1361.0</td>\n",
       "      <td>64.8</td>\n",
       "      <td>0.484076</td>\n",
       "      <td>0.498455</td>\n",
       "      <td>0.497404</td>\n",
       "      <td>0.470255</td>\n",
       "      <td>0</td>\n",
       "    </tr>\n",
       "    <tr>\n",
       "      <th>...</th>\n",
       "      <td>...</td>\n",
       "      <td>...</td>\n",
       "      <td>...</td>\n",
       "      <td>...</td>\n",
       "      <td>...</td>\n",
       "      <td>...</td>\n",
       "      <td>...</td>\n",
       "      <td>...</td>\n",
       "      <td>...</td>\n",
       "      <td>...</td>\n",
       "      <td>...</td>\n",
       "      <td>...</td>\n",
       "      <td>...</td>\n",
       "      <td>...</td>\n",
       "      <td>...</td>\n",
       "      <td>...</td>\n",
       "    </tr>\n",
       "    <tr>\n",
       "      <th>5540</th>\n",
       "      <td>0.560763</td>\n",
       "      <td>10.65</td>\n",
       "      <td>309.45</td>\n",
       "      <td>0.479567</td>\n",
       "      <td>0.523856</td>\n",
       "      <td>30000.0</td>\n",
       "      <td>0.581884</td>\n",
       "      <td>19.84</td>\n",
       "      <td>0.500914</td>\n",
       "      <td>9311.0</td>\n",
       "      <td>50.9</td>\n",
       "      <td>0.479532</td>\n",
       "      <td>0.498455</td>\n",
       "      <td>0.497404</td>\n",
       "      <td>0.500871</td>\n",
       "      <td>1</td>\n",
       "    </tr>\n",
       "    <tr>\n",
       "      <th>2579</th>\n",
       "      <td>0.560763</td>\n",
       "      <td>21.49</td>\n",
       "      <td>830.61</td>\n",
       "      <td>0.520332</td>\n",
       "      <td>0.479546</td>\n",
       "      <td>65000.0</td>\n",
       "      <td>0.473215</td>\n",
       "      <td>13.89</td>\n",
       "      <td>0.500914</td>\n",
       "      <td>17298.0</td>\n",
       "      <td>71.5</td>\n",
       "      <td>0.477064</td>\n",
       "      <td>0.498455</td>\n",
       "      <td>0.483154</td>\n",
       "      <td>0.500871</td>\n",
       "      <td>0</td>\n",
       "    </tr>\n",
       "    <tr>\n",
       "      <th>882</th>\n",
       "      <td>0.560763</td>\n",
       "      <td>18.75</td>\n",
       "      <td>484.02</td>\n",
       "      <td>0.493506</td>\n",
       "      <td>0.479546</td>\n",
       "      <td>85000.0</td>\n",
       "      <td>0.581884</td>\n",
       "      <td>5.27</td>\n",
       "      <td>0.500914</td>\n",
       "      <td>6121.0</td>\n",
       "      <td>69.5</td>\n",
       "      <td>0.525234</td>\n",
       "      <td>0.498455</td>\n",
       "      <td>0.483154</td>\n",
       "      <td>0.500871</td>\n",
       "      <td>1</td>\n",
       "    </tr>\n",
       "    <tr>\n",
       "      <th>2576</th>\n",
       "      <td>0.560763</td>\n",
       "      <td>12.12</td>\n",
       "      <td>665.44</td>\n",
       "      <td>0.502326</td>\n",
       "      <td>0.479546</td>\n",
       "      <td>90000.0</td>\n",
       "      <td>0.473215</td>\n",
       "      <td>13.68</td>\n",
       "      <td>0.500914</td>\n",
       "      <td>16205.0</td>\n",
       "      <td>85.3</td>\n",
       "      <td>0.509890</td>\n",
       "      <td>0.498455</td>\n",
       "      <td>0.483154</td>\n",
       "      <td>0.500871</td>\n",
       "      <td>1</td>\n",
       "    </tr>\n",
       "    <tr>\n",
       "      <th>6952</th>\n",
       "      <td>0.273930</td>\n",
       "      <td>16.29</td>\n",
       "      <td>469.88</td>\n",
       "      <td>0.484797</td>\n",
       "      <td>0.523856</td>\n",
       "      <td>42000.0</td>\n",
       "      <td>0.473215</td>\n",
       "      <td>16.14</td>\n",
       "      <td>0.500914</td>\n",
       "      <td>8464.0</td>\n",
       "      <td>50.4</td>\n",
       "      <td>0.506958</td>\n",
       "      <td>0.498455</td>\n",
       "      <td>0.500388</td>\n",
       "      <td>0.500871</td>\n",
       "      <td>0</td>\n",
       "    </tr>\n",
       "  </tbody>\n",
       "</table>\n",
       "<p>2713 rows × 16 columns</p>\n",
       "</div>"
      ],
      "text/plain": [
       "           term  int_rate  installment  emp_length  home_ownership  \\\n",
       "1861   0.560763      8.90        79.39    0.502326        0.479546   \n",
       "11971  0.560763     15.81       315.57    0.490360        0.479546   \n",
       "10411  0.560763     15.31       633.68    0.484797        0.479546   \n",
       "3998   0.560763     22.45       783.85    0.493506        0.479546   \n",
       "2686   0.560763     12.69       161.02    0.493506        0.523856   \n",
       "...         ...       ...          ...         ...             ...   \n",
       "5540   0.560763     10.65       309.45    0.479567        0.523856   \n",
       "2579   0.560763     21.49       830.61    0.520332        0.479546   \n",
       "882    0.560763     18.75       484.02    0.493506        0.479546   \n",
       "2576   0.560763     12.12       665.44    0.502326        0.479546   \n",
       "6952   0.273930     16.29       469.88    0.484797        0.523856   \n",
       "\n",
       "       annual_inc   purpose    dti   pub_rec  revol_bal  revol_util  \\\n",
       "1861      21000.0  0.581884  26.23  0.500914    16146.0        80.3   \n",
       "11971     45000.0  0.473215  10.69  0.500914     6599.0        88.0   \n",
       "10411     61000.0  0.473215  17.06  0.500914     3698.0        88.0   \n",
       "3998      70000.0  0.575362  21.72  0.500914    18596.0        93.9   \n",
       "2686      48000.0  0.575362   4.00  0.472684     1361.0        64.8   \n",
       "...           ...       ...    ...       ...        ...         ...   \n",
       "5540      30000.0  0.581884  19.84  0.500914     9311.0        50.9   \n",
       "2579      65000.0  0.473215  13.89  0.500914    17298.0        71.5   \n",
       "882       85000.0  0.581884   5.27  0.500914     6121.0        69.5   \n",
       "2576      90000.0  0.473215  13.68  0.500914    16205.0        85.3   \n",
       "6952      42000.0  0.473215  16.14  0.500914     8464.0        50.4   \n",
       "\n",
       "       total_acc  initial_list_status  mort_acc  pub_rec_bankruptcies  \\\n",
       "1861    0.485411             0.498455  0.483154              0.500871   \n",
       "11971   0.470930             0.498455  0.483154              0.500871   \n",
       "10411   0.492647             0.498455  0.541608              0.500871   \n",
       "3998    0.501916             0.498455  0.541608              0.500871   \n",
       "2686    0.484076             0.498455  0.497404              0.470255   \n",
       "...          ...                  ...       ...                   ...   \n",
       "5540    0.479532             0.498455  0.497404              0.500871   \n",
       "2579    0.477064             0.498455  0.483154              0.500871   \n",
       "882     0.525234             0.498455  0.483154              0.500871   \n",
       "2576    0.509890             0.498455  0.483154              0.500871   \n",
       "6952    0.506958             0.498455  0.500388              0.500871   \n",
       "\n",
       "       loan_status  \n",
       "1861             1  \n",
       "11971            0  \n",
       "10411            1  \n",
       "3998             0  \n",
       "2686             0  \n",
       "...            ...  \n",
       "5540             1  \n",
       "2579             0  \n",
       "882              1  \n",
       "2576             1  \n",
       "6952             0  \n",
       "\n",
       "[2713 rows x 16 columns]"
      ]
     },
     "execution_count": 8,
     "metadata": {},
     "output_type": "execute_result"
    }
   ],
   "source": [
    "test"
   ]
  },
  {
   "cell_type": "code",
   "execution_count": 9,
   "metadata": {},
   "outputs": [],
   "source": [
    "train.to_csv('train_balmix_cat_mean.csv', index=False)\n",
    "test.to_csv('test_balmix_cat_mean.csv', index=False)"
   ]
  },
  {
   "cell_type": "code",
   "execution_count": 10,
   "metadata": {},
   "outputs": [],
   "source": [
    "from sklearn.preprocessing import StandardScaler\n",
    "\n",
    "scaler = StandardScaler()\n",
    "\n",
    "X_train_scal = scaler.fit_transform(X_train)\n",
    "X_test_scal = scaler.transform(X_test)"
   ]
  },
  {
   "cell_type": "code",
   "execution_count": 11,
   "metadata": {},
   "outputs": [],
   "source": [
    "log_reg = LogisticRegression(max_iter=1000)"
   ]
  },
  {
   "cell_type": "code",
   "execution_count": 12,
   "metadata": {},
   "outputs": [
    {
     "name": "stdout",
     "output_type": "stream",
     "text": [
      "[0.63629492 0.65326851 0.60982545 0.65730806 0.66511995 0.64594374\n",
      " 0.64959624 0.64659853 0.64027897 0.64149068]\n",
      "0.6445725054589911\n",
      "0.014124603909666925\n"
     ]
    }
   ],
   "source": [
    "cv_results = cross_val_score(log_reg, X, y, cv=10, scoring=\"roc_auc\")\n",
    "print(cv_results)\n",
    "print(cv_results.mean())\n",
    "print(cv_results.std())"
   ]
  },
  {
   "cell_type": "code",
   "execution_count": 13,
   "metadata": {},
   "outputs": [
    {
     "data": {
      "text/html": [
       "<style>#sk-container-id-1 {color: black;}#sk-container-id-1 pre{padding: 0;}#sk-container-id-1 div.sk-toggleable {background-color: white;}#sk-container-id-1 label.sk-toggleable__label {cursor: pointer;display: block;width: 100%;margin-bottom: 0;padding: 0.3em;box-sizing: border-box;text-align: center;}#sk-container-id-1 label.sk-toggleable__label-arrow:before {content: \"▸\";float: left;margin-right: 0.25em;color: #696969;}#sk-container-id-1 label.sk-toggleable__label-arrow:hover:before {color: black;}#sk-container-id-1 div.sk-estimator:hover label.sk-toggleable__label-arrow:before {color: black;}#sk-container-id-1 div.sk-toggleable__content {max-height: 0;max-width: 0;overflow: hidden;text-align: left;background-color: #f0f8ff;}#sk-container-id-1 div.sk-toggleable__content pre {margin: 0.2em;color: black;border-radius: 0.25em;background-color: #f0f8ff;}#sk-container-id-1 input.sk-toggleable__control:checked~div.sk-toggleable__content {max-height: 200px;max-width: 100%;overflow: auto;}#sk-container-id-1 input.sk-toggleable__control:checked~label.sk-toggleable__label-arrow:before {content: \"▾\";}#sk-container-id-1 div.sk-estimator input.sk-toggleable__control:checked~label.sk-toggleable__label {background-color: #d4ebff;}#sk-container-id-1 div.sk-label input.sk-toggleable__control:checked~label.sk-toggleable__label {background-color: #d4ebff;}#sk-container-id-1 input.sk-hidden--visually {border: 0;clip: rect(1px 1px 1px 1px);clip: rect(1px, 1px, 1px, 1px);height: 1px;margin: -1px;overflow: hidden;padding: 0;position: absolute;width: 1px;}#sk-container-id-1 div.sk-estimator {font-family: monospace;background-color: #f0f8ff;border: 1px dotted black;border-radius: 0.25em;box-sizing: border-box;margin-bottom: 0.5em;}#sk-container-id-1 div.sk-estimator:hover {background-color: #d4ebff;}#sk-container-id-1 div.sk-parallel-item::after {content: \"\";width: 100%;border-bottom: 1px solid gray;flex-grow: 1;}#sk-container-id-1 div.sk-label:hover label.sk-toggleable__label {background-color: #d4ebff;}#sk-container-id-1 div.sk-serial::before {content: \"\";position: absolute;border-left: 1px solid gray;box-sizing: border-box;top: 0;bottom: 0;left: 50%;z-index: 0;}#sk-container-id-1 div.sk-serial {display: flex;flex-direction: column;align-items: center;background-color: white;padding-right: 0.2em;padding-left: 0.2em;position: relative;}#sk-container-id-1 div.sk-item {position: relative;z-index: 1;}#sk-container-id-1 div.sk-parallel {display: flex;align-items: stretch;justify-content: center;background-color: white;position: relative;}#sk-container-id-1 div.sk-item::before, #sk-container-id-1 div.sk-parallel-item::before {content: \"\";position: absolute;border-left: 1px solid gray;box-sizing: border-box;top: 0;bottom: 0;left: 50%;z-index: -1;}#sk-container-id-1 div.sk-parallel-item {display: flex;flex-direction: column;z-index: 1;position: relative;background-color: white;}#sk-container-id-1 div.sk-parallel-item:first-child::after {align-self: flex-end;width: 50%;}#sk-container-id-1 div.sk-parallel-item:last-child::after {align-self: flex-start;width: 50%;}#sk-container-id-1 div.sk-parallel-item:only-child::after {width: 0;}#sk-container-id-1 div.sk-dashed-wrapped {border: 1px dashed gray;margin: 0 0.4em 0.5em 0.4em;box-sizing: border-box;padding-bottom: 0.4em;background-color: white;}#sk-container-id-1 div.sk-label label {font-family: monospace;font-weight: bold;display: inline-block;line-height: 1.2em;}#sk-container-id-1 div.sk-label-container {text-align: center;}#sk-container-id-1 div.sk-container {/* jupyter's `normalize.less` sets `[hidden] { display: none; }` but bootstrap.min.css set `[hidden] { display: none !important; }` so we also need the `!important` here to be able to override the default hidden behavior on the sphinx rendered scikit-learn.org. See: https://github.com/scikit-learn/scikit-learn/issues/21755 */display: inline-block !important;position: relative;}#sk-container-id-1 div.sk-text-repr-fallback {display: none;}</style><div id=\"sk-container-id-1\" class=\"sk-top-container\"><div class=\"sk-text-repr-fallback\"><pre>LogisticRegression(max_iter=1000)</pre><b>In a Jupyter environment, please rerun this cell to show the HTML representation or trust the notebook. <br />On GitHub, the HTML representation is unable to render, please try loading this page with nbviewer.org.</b></div><div class=\"sk-container\" hidden><div class=\"sk-item\"><div class=\"sk-estimator sk-toggleable\"><input class=\"sk-toggleable__control sk-hidden--visually\" id=\"sk-estimator-id-1\" type=\"checkbox\" checked><label for=\"sk-estimator-id-1\" class=\"sk-toggleable__label sk-toggleable__label-arrow\">LogisticRegression</label><div class=\"sk-toggleable__content\"><pre>LogisticRegression(max_iter=1000)</pre></div></div></div></div></div>"
      ],
      "text/plain": [
       "LogisticRegression(max_iter=1000)"
      ]
     },
     "execution_count": 13,
     "metadata": {},
     "output_type": "execute_result"
    }
   ],
   "source": [
    "log_reg.fit(X_train_scal, y_train)"
   ]
  },
  {
   "cell_type": "code",
   "execution_count": 14,
   "metadata": {},
   "outputs": [
    {
     "data": {
      "text/plain": [
       "array([1, 0, 0, ..., 1, 1, 0], dtype=int64)"
      ]
     },
     "execution_count": 14,
     "metadata": {},
     "output_type": "execute_result"
    }
   ],
   "source": [
    "y_pred = log_reg.predict(X_test_scal)\n",
    "y_pred"
   ]
  },
  {
   "cell_type": "code",
   "execution_count": 15,
   "metadata": {},
   "outputs": [
    {
     "data": {
      "text/plain": [
       "0.6428308145963878"
      ]
     },
     "execution_count": 15,
     "metadata": {},
     "output_type": "execute_result"
    }
   ],
   "source": [
    "accuracy_score(y_test, y_pred)"
   ]
  },
  {
   "cell_type": "code",
   "execution_count": 16,
   "metadata": {},
   "outputs": [
    {
     "data": {
      "text/plain": [
       "array([[843, 509],\n",
       "       [460, 901]], dtype=int64)"
      ]
     },
     "execution_count": 16,
     "metadata": {},
     "output_type": "execute_result"
    }
   ],
   "source": [
    "c_mat = confusion_matrix(y_test, y_pred)\n",
    "c_mat"
   ]
  },
  {
   "cell_type": "code",
   "execution_count": 17,
   "metadata": {},
   "outputs": [
    {
     "data": {
      "text/plain": [
       "0.6390070921985815"
      ]
     },
     "execution_count": 17,
     "metadata": {},
     "output_type": "execute_result"
    }
   ],
   "source": [
    "precision_score(y_test, y_pred)"
   ]
  },
  {
   "cell_type": "code",
   "execution_count": 18,
   "metadata": {},
   "outputs": [
    {
     "data": {
      "text/plain": [
       "0.6620132255694342"
      ]
     },
     "execution_count": 18,
     "metadata": {},
     "output_type": "execute_result"
    }
   ],
   "source": [
    "recall_score(y_test, y_pred)"
   ]
  },
  {
   "cell_type": "code",
   "execution_count": 19,
   "metadata": {},
   "outputs": [
    {
     "data": {
      "text/plain": [
       "0.6503067484662577"
      ]
     },
     "execution_count": 19,
     "metadata": {},
     "output_type": "execute_result"
    }
   ],
   "source": [
    "f1_score(y_test, y_pred)"
   ]
  },
  {
   "cell_type": "code",
   "execution_count": 20,
   "metadata": {},
   "outputs": [
    {
     "data": {
      "text/plain": [
       "0.6427669678143029"
      ]
     },
     "execution_count": 20,
     "metadata": {},
     "output_type": "execute_result"
    }
   ],
   "source": [
    "roc_auc_score(y_test, y_pred)"
   ]
  },
  {
   "cell_type": "code",
   "execution_count": 21,
   "metadata": {},
   "outputs": [
    {
     "data": {
      "text/plain": [
       "array([[0.40054696, 0.59945304],\n",
       "       [0.59577241, 0.40422759],\n",
       "       [0.53550338, 0.46449662],\n",
       "       ...,\n",
       "       [0.46235558, 0.53764442],\n",
       "       [0.40664835, 0.59335165],\n",
       "       [0.73546685, 0.26453315]])"
      ]
     },
     "execution_count": 21,
     "metadata": {},
     "output_type": "execute_result"
    }
   ],
   "source": [
    "y_pred_proba = log_reg.predict_proba(X_test_scal)\n",
    "y_pred_proba"
   ]
  },
  {
   "cell_type": "code",
   "execution_count": 22,
   "metadata": {},
   "outputs": [],
   "source": [
    "fpr, tpr, thresholds = roc_curve(y_test, y_pred_proba[:,1])"
   ]
  },
  {
   "cell_type": "code",
   "execution_count": 23,
   "metadata": {},
   "outputs": [
    {
     "data": {
      "text/plain": [
       "Text(0, 0.5, 'True positive rate')"
      ]
     },
     "execution_count": 23,
     "metadata": {},
     "output_type": "execute_result"
    },
    {
     "data": {
      "image/png": "[encoded data removed]",
      "text/plain": [
       "<Figure size 640x480 with 1 Axes>"
      ]
     },
     "metadata": {},
     "output_type": "display_data"
    }
   ],
   "source": [
    "plt.plot(fpr, tpr)\n",
    "plt.xlabel(\"False positive rate\")\n",
    "plt.ylabel(\"True positive rate\")"
   ]
  },
  {
   "cell_type": "code",
   "execution_count": 24,
   "metadata": {},
   "outputs": [],
   "source": [
    "precisions, recalls, thresholds = precision_recall_curve(y_test, y_pred_proba[:,1])"
   ]
  },
  {
   "cell_type": "code",
   "execution_count": 25,
   "metadata": {},
   "outputs": [
    {
     "data": {
      "text/plain": [
       "Text(0, 0.5, 'Precision')"
      ]
     },
     "execution_count": 25,
     "metadata": {},
     "output_type": "execute_result"
    },
    {
     "data": {
      "image/png": "[encoded data removed]",
      "text/plain": [
       "<Figure size 640x480 with 1 Axes>"
      ]
     },
     "metadata": {},
     "output_type": "display_data"
    }
   ],
   "source": [
    "plt.plot(recalls, precisions)\n",
    "plt.xlabel(\"Recall\")\n",
    "plt.ylabel(\"Precision\")"
   ]
  },
  {
   "cell_type": "code",
   "execution_count": null,
   "metadata": {},
   "outputs": [],
   "source": [
    "\n",
    "    \n",
    "with open('my_model_primero_logreg.pkl', \"wb\") as archivo_salida:\n",
    "    pickle.dump(log_reg, archivo_salida)\n"
   ]
  }
 ],
 "metadata": {
  "kernelspec": {
   "display_name": "Python 3",
   "language": "python",
   "name": "python3"
  },
  "language_info": {
   "codemirror_mode": {
    "name": "ipython",
    "version": 3
   },
   "file_extension": ".py",
   "mimetype": "text/x-python",
   "name": "python",
   "nbconvert_exporter": "python",
   "pygments_lexer": "ipython3",
   "version": "3.11.5"
  }
 },
 "nbformat": 4,
 "nbformat_minor": 2
}
